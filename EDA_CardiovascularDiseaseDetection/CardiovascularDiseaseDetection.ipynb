{
  "nbformat": 4,
  "nbformat_minor": 0,
  "metadata": {
    "colab": {
      "name": "CardiovascularDiseaseDetection.ipynb",
      "provenance": [],
      "collapsed_sections": []
    },
    "kernelspec": {
      "name": "python3",
      "display_name": "Python 3"
    },
    "accelerator": "GPU"
  },
  "cells": [
    {
      "cell_type": "markdown",
      "metadata": {
        "id": "fJcZrx9tTstp",
        "colab_type": "text"
      },
      "source": [
        "Problem Statement: To build an application to classify the patients to be healthy or suffering from cardiovascular disease based on the given attributes."
      ]
    },
    {
      "cell_type": "code",
      "metadata": {
        "id": "kobTBSmGUQ62",
        "colab_type": "code",
        "colab": {}
      },
      "source": [
        "import numpy as np\n",
        "import pandas as pd\n",
        "import seaborn as sns\n",
        "import matplotlib.pyplot as plt\n",
        "%matplotlib inline"
      ],
      "execution_count": 0,
      "outputs": []
    },
    {
      "cell_type": "code",
      "metadata": {
        "id": "-VNmGrirURHU",
        "colab_type": "code",
        "colab": {}
      },
      "source": [
        "data=pd.read_csv('cardio_train_modified_1000.csv',sep=';',header=0,index_col='id')"
      ],
      "execution_count": 0,
      "outputs": []
    },
    {
      "cell_type": "code",
      "metadata": {
        "id": "6aWGTXmqURDk",
        "colab_type": "code",
        "outputId": "e70227b1-9525-4dd4-c496-14aef50b4a26",
        "colab": {
          "base_uri": "https://localhost:8080/",
          "height": 223
        }
      },
      "source": [
        "data.head()"
      ],
      "execution_count": 0,
      "outputs": [
        {
          "output_type": "execute_result",
          "data": {
            "text/html": [
              "<div>\n",
              "<style scoped>\n",
              "    .dataframe tbody tr th:only-of-type {\n",
              "        vertical-align: middle;\n",
              "    }\n",
              "\n",
              "    .dataframe tbody tr th {\n",
              "        vertical-align: top;\n",
              "    }\n",
              "\n",
              "    .dataframe thead th {\n",
              "        text-align: right;\n",
              "    }\n",
              "</style>\n",
              "<table border=\"1\" class=\"dataframe\">\n",
              "  <thead>\n",
              "    <tr style=\"text-align: right;\">\n",
              "      <th></th>\n",
              "      <th>age</th>\n",
              "      <th>gender</th>\n",
              "      <th>height</th>\n",
              "      <th>weight</th>\n",
              "      <th>ap_hi</th>\n",
              "      <th>ap_lo</th>\n",
              "      <th>cholesterol</th>\n",
              "      <th>gluc</th>\n",
              "      <th>smoke</th>\n",
              "      <th>alco</th>\n",
              "      <th>active</th>\n",
              "      <th>cardio</th>\n",
              "    </tr>\n",
              "    <tr>\n",
              "      <th>id</th>\n",
              "      <th></th>\n",
              "      <th></th>\n",
              "      <th></th>\n",
              "      <th></th>\n",
              "      <th></th>\n",
              "      <th></th>\n",
              "      <th></th>\n",
              "      <th></th>\n",
              "      <th></th>\n",
              "      <th></th>\n",
              "      <th></th>\n",
              "      <th></th>\n",
              "    </tr>\n",
              "  </thead>\n",
              "  <tbody>\n",
              "    <tr>\n",
              "      <th>988</th>\n",
              "      <td>22469</td>\n",
              "      <td>1</td>\n",
              "      <td>155</td>\n",
              "      <td>69.0</td>\n",
              "      <td>130</td>\n",
              "      <td>80</td>\n",
              "      <td>2</td>\n",
              "      <td>2</td>\n",
              "      <td>0</td>\n",
              "      <td>0</td>\n",
              "      <td>1</td>\n",
              "      <td>0</td>\n",
              "    </tr>\n",
              "    <tr>\n",
              "      <th>989</th>\n",
              "      <td>14648</td>\n",
              "      <td>1</td>\n",
              "      <td>163</td>\n",
              "      <td>71.0</td>\n",
              "      <td>110</td>\n",
              "      <td>70</td>\n",
              "      <td>1</td>\n",
              "      <td>1</td>\n",
              "      <td>0</td>\n",
              "      <td>0</td>\n",
              "      <td>1</td>\n",
              "      <td>1</td>\n",
              "    </tr>\n",
              "    <tr>\n",
              "      <th>990</th>\n",
              "      <td>21901</td>\n",
              "      <td>1</td>\n",
              "      <td>165</td>\n",
              "      <td>70.0</td>\n",
              "      <td>120</td>\n",
              "      <td>80</td>\n",
              "      <td>1</td>\n",
              "      <td>1</td>\n",
              "      <td>0</td>\n",
              "      <td>0</td>\n",
              "      <td>1</td>\n",
              "      <td>0</td>\n",
              "    </tr>\n",
              "    <tr>\n",
              "      <th>991</th>\n",
              "      <td>14549</td>\n",
              "      <td>2</td>\n",
              "      <td>165</td>\n",
              "      <td>85.0</td>\n",
              "      <td>120</td>\n",
              "      <td>80</td>\n",
              "      <td>1</td>\n",
              "      <td>1</td>\n",
              "      <td>1</td>\n",
              "      <td>1</td>\n",
              "      <td>1</td>\n",
              "      <td>0</td>\n",
              "    </tr>\n",
              "    <tr>\n",
              "      <th>992</th>\n",
              "      <td>23393</td>\n",
              "      <td>1</td>\n",
              "      <td>155</td>\n",
              "      <td>62.0</td>\n",
              "      <td>120</td>\n",
              "      <td>80</td>\n",
              "      <td>1</td>\n",
              "      <td>1</td>\n",
              "      <td>0</td>\n",
              "      <td>0</td>\n",
              "      <td>1</td>\n",
              "      <td>0</td>\n",
              "    </tr>\n",
              "  </tbody>\n",
              "</table>\n",
              "</div>"
            ],
            "text/plain": [
              "       age  gender  height  weight  ap_hi  ...  gluc  smoke  alco  active  cardio\n",
              "id                                         ...                                   \n",
              "988  22469       1     155    69.0    130  ...     2      0     0       1       0\n",
              "989  14648       1     163    71.0    110  ...     1      0     0       1       1\n",
              "990  21901       1     165    70.0    120  ...     1      0     0       1       0\n",
              "991  14549       2     165    85.0    120  ...     1      1     1       1       0\n",
              "992  23393       1     155    62.0    120  ...     1      0     0       1       0\n",
              "\n",
              "[5 rows x 12 columns]"
            ]
          },
          "metadata": {
            "tags": []
          },
          "execution_count": 5
        }
      ]
    },
    {
      "cell_type": "code",
      "metadata": {
        "id": "3gam-vg9UQ2f",
        "colab_type": "code",
        "outputId": "5c5bcefd-0984-4434-945e-95a6ff28a8cc",
        "colab": {
          "base_uri": "https://localhost:8080/",
          "height": 35
        }
      },
      "source": [
        "data.shape"
      ],
      "execution_count": 0,
      "outputs": [
        {
          "output_type": "execute_result",
          "data": {
            "text/plain": [
              "(1000, 12)"
            ]
          },
          "metadata": {
            "tags": []
          },
          "execution_count": 6
        }
      ]
    },
    {
      "cell_type": "markdown",
      "metadata": {
        "id": "479fBQ0eZQIU",
        "colab_type": "text"
      },
      "source": [
        "*Data set is Balanced or not?*"
      ]
    },
    {
      "cell_type": "code",
      "metadata": {
        "id": "WPClNEUQUQ0d",
        "colab_type": "code",
        "outputId": "cfe078c9-2200-4e3f-f445-a00fac79506d",
        "colab": {
          "base_uri": "https://localhost:8080/",
          "height": 35
        }
      },
      "source": [
        "len(data[data.cardio==0])"
      ],
      "execution_count": 0,
      "outputs": [
        {
          "output_type": "execute_result",
          "data": {
            "text/plain": [
              "521"
            ]
          },
          "metadata": {
            "tags": []
          },
          "execution_count": 7
        }
      ]
    },
    {
      "cell_type": "code",
      "metadata": {
        "id": "gDrtZPGYUQyL",
        "colab_type": "code",
        "outputId": "01d08066-3bc4-44c6-f84c-4344efe79a20",
        "colab": {
          "base_uri": "https://localhost:8080/",
          "height": 35
        }
      },
      "source": [
        "len(data[data.cardio==1])"
      ],
      "execution_count": 0,
      "outputs": [
        {
          "output_type": "execute_result",
          "data": {
            "text/plain": [
              "479"
            ]
          },
          "metadata": {
            "tags": []
          },
          "execution_count": 8
        }
      ]
    },
    {
      "cell_type": "markdown",
      "metadata": {
        "id": "SQ-_8C7QZeP6",
        "colab_type": "text"
      },
      "source": [
        "Inference: Data set is almost Balanced"
      ]
    },
    {
      "cell_type": "markdown",
      "metadata": {
        "id": "5IooijV4Zu_w",
        "colab_type": "text"
      },
      "source": [
        "*Data contains null values or not?*"
      ]
    },
    {
      "cell_type": "code",
      "metadata": {
        "id": "zyIch3XyUQuj",
        "colab_type": "code",
        "outputId": "e3abe870-e52c-4c98-8d94-e16ae4dc2ce1",
        "colab": {
          "base_uri": "https://localhost:8080/",
          "height": 355
        }
      },
      "source": [
        "data.info()"
      ],
      "execution_count": 0,
      "outputs": [
        {
          "output_type": "stream",
          "text": [
            "<class 'pandas.core.frame.DataFrame'>\n",
            "Int64Index: 1000 entries, 988 to 2394\n",
            "Data columns (total 12 columns):\n",
            " #   Column       Non-Null Count  Dtype  \n",
            "---  ------       --------------  -----  \n",
            " 0   age          1000 non-null   int64  \n",
            " 1   gender       1000 non-null   int64  \n",
            " 2   height       1000 non-null   int64  \n",
            " 3   weight       1000 non-null   float64\n",
            " 4   ap_hi        1000 non-null   int64  \n",
            " 5   ap_lo        1000 non-null   int64  \n",
            " 6   cholesterol  1000 non-null   int64  \n",
            " 7   gluc         1000 non-null   int64  \n",
            " 8   smoke        1000 non-null   int64  \n",
            " 9   alco         1000 non-null   int64  \n",
            " 10  active       1000 non-null   int64  \n",
            " 11  cardio       1000 non-null   int64  \n",
            "dtypes: float64(1), int64(11)\n",
            "memory usage: 101.6 KB\n"
          ],
          "name": "stdout"
        }
      ]
    },
    {
      "cell_type": "markdown",
      "metadata": {
        "id": "yiyWL4fyZ7_F",
        "colab_type": "text"
      },
      "source": [
        "Inference: data doesn't contain any null value"
      ]
    },
    {
      "cell_type": "code",
      "metadata": {
        "id": "5ruM9VIYUQrO",
        "colab_type": "code",
        "outputId": "efcfd4ef-fbe5-4de9-877e-fce321e03cea",
        "colab": {
          "base_uri": "https://localhost:8080/",
          "height": 419
        }
      },
      "source": [
        "data.corr()"
      ],
      "execution_count": 0,
      "outputs": [
        {
          "output_type": "execute_result",
          "data": {
            "text/html": [
              "<div>\n",
              "<style scoped>\n",
              "    .dataframe tbody tr th:only-of-type {\n",
              "        vertical-align: middle;\n",
              "    }\n",
              "\n",
              "    .dataframe tbody tr th {\n",
              "        vertical-align: top;\n",
              "    }\n",
              "\n",
              "    .dataframe thead th {\n",
              "        text-align: right;\n",
              "    }\n",
              "</style>\n",
              "<table border=\"1\" class=\"dataframe\">\n",
              "  <thead>\n",
              "    <tr style=\"text-align: right;\">\n",
              "      <th></th>\n",
              "      <th>age</th>\n",
              "      <th>gender</th>\n",
              "      <th>height</th>\n",
              "      <th>weight</th>\n",
              "      <th>ap_hi</th>\n",
              "      <th>ap_lo</th>\n",
              "      <th>cholesterol</th>\n",
              "      <th>gluc</th>\n",
              "      <th>smoke</th>\n",
              "      <th>alco</th>\n",
              "      <th>active</th>\n",
              "      <th>cardio</th>\n",
              "    </tr>\n",
              "  </thead>\n",
              "  <tbody>\n",
              "    <tr>\n",
              "      <th>age</th>\n",
              "      <td>1.000000</td>\n",
              "      <td>-0.035387</td>\n",
              "      <td>-0.099712</td>\n",
              "      <td>0.021426</td>\n",
              "      <td>0.126634</td>\n",
              "      <td>-0.000026</td>\n",
              "      <td>0.197988</td>\n",
              "      <td>0.127321</td>\n",
              "      <td>-0.043766</td>\n",
              "      <td>-0.025456</td>\n",
              "      <td>-0.000765</td>\n",
              "      <td>0.253741</td>\n",
              "    </tr>\n",
              "    <tr>\n",
              "      <th>gender</th>\n",
              "      <td>-0.035387</td>\n",
              "      <td>1.000000</td>\n",
              "      <td>0.529717</td>\n",
              "      <td>0.125945</td>\n",
              "      <td>0.061297</td>\n",
              "      <td>0.080293</td>\n",
              "      <td>-0.044352</td>\n",
              "      <td>-0.071817</td>\n",
              "      <td>0.316239</td>\n",
              "      <td>0.166434</td>\n",
              "      <td>0.031008</td>\n",
              "      <td>-0.022083</td>\n",
              "    </tr>\n",
              "    <tr>\n",
              "      <th>height</th>\n",
              "      <td>-0.099712</td>\n",
              "      <td>0.529717</td>\n",
              "      <td>1.000000</td>\n",
              "      <td>0.334461</td>\n",
              "      <td>0.047800</td>\n",
              "      <td>0.034423</td>\n",
              "      <td>-0.051899</td>\n",
              "      <td>-0.055928</td>\n",
              "      <td>0.176473</td>\n",
              "      <td>0.121742</td>\n",
              "      <td>0.004211</td>\n",
              "      <td>0.022921</td>\n",
              "    </tr>\n",
              "    <tr>\n",
              "      <th>weight</th>\n",
              "      <td>0.021426</td>\n",
              "      <td>0.125945</td>\n",
              "      <td>0.334461</td>\n",
              "      <td>1.000000</td>\n",
              "      <td>0.245063</td>\n",
              "      <td>-0.014340</td>\n",
              "      <td>0.159040</td>\n",
              "      <td>0.093750</td>\n",
              "      <td>0.076846</td>\n",
              "      <td>0.051993</td>\n",
              "      <td>-0.058702</td>\n",
              "      <td>0.194590</td>\n",
              "    </tr>\n",
              "    <tr>\n",
              "      <th>ap_hi</th>\n",
              "      <td>0.126634</td>\n",
              "      <td>0.061297</td>\n",
              "      <td>0.047800</td>\n",
              "      <td>0.245063</td>\n",
              "      <td>1.000000</td>\n",
              "      <td>0.221725</td>\n",
              "      <td>0.194754</td>\n",
              "      <td>0.072972</td>\n",
              "      <td>0.017422</td>\n",
              "      <td>0.034892</td>\n",
              "      <td>0.015569</td>\n",
              "      <td>0.398803</td>\n",
              "    </tr>\n",
              "    <tr>\n",
              "      <th>ap_lo</th>\n",
              "      <td>-0.000026</td>\n",
              "      <td>0.080293</td>\n",
              "      <td>0.034423</td>\n",
              "      <td>-0.014340</td>\n",
              "      <td>0.221725</td>\n",
              "      <td>1.000000</td>\n",
              "      <td>0.046451</td>\n",
              "      <td>0.016660</td>\n",
              "      <td>0.060656</td>\n",
              "      <td>0.011783</td>\n",
              "      <td>-0.029651</td>\n",
              "      <td>0.128263</td>\n",
              "    </tr>\n",
              "    <tr>\n",
              "      <th>cholesterol</th>\n",
              "      <td>0.197988</td>\n",
              "      <td>-0.044352</td>\n",
              "      <td>-0.051899</td>\n",
              "      <td>0.159040</td>\n",
              "      <td>0.194754</td>\n",
              "      <td>0.046451</td>\n",
              "      <td>1.000000</td>\n",
              "      <td>0.512579</td>\n",
              "      <td>0.007226</td>\n",
              "      <td>-0.019661</td>\n",
              "      <td>0.054798</td>\n",
              "      <td>0.225543</td>\n",
              "    </tr>\n",
              "    <tr>\n",
              "      <th>gluc</th>\n",
              "      <td>0.127321</td>\n",
              "      <td>-0.071817</td>\n",
              "      <td>-0.055928</td>\n",
              "      <td>0.093750</td>\n",
              "      <td>0.072972</td>\n",
              "      <td>0.016660</td>\n",
              "      <td>0.512579</td>\n",
              "      <td>1.000000</td>\n",
              "      <td>0.009238</td>\n",
              "      <td>-0.047638</td>\n",
              "      <td>0.021187</td>\n",
              "      <td>0.112975</td>\n",
              "    </tr>\n",
              "    <tr>\n",
              "      <th>smoke</th>\n",
              "      <td>-0.043766</td>\n",
              "      <td>0.316239</td>\n",
              "      <td>0.176473</td>\n",
              "      <td>0.076846</td>\n",
              "      <td>0.017422</td>\n",
              "      <td>0.060656</td>\n",
              "      <td>0.007226</td>\n",
              "      <td>0.009238</td>\n",
              "      <td>1.000000</td>\n",
              "      <td>0.409254</td>\n",
              "      <td>0.010895</td>\n",
              "      <td>-0.008920</td>\n",
              "    </tr>\n",
              "    <tr>\n",
              "      <th>alco</th>\n",
              "      <td>-0.025456</td>\n",
              "      <td>0.166434</td>\n",
              "      <td>0.121742</td>\n",
              "      <td>0.051993</td>\n",
              "      <td>0.034892</td>\n",
              "      <td>0.011783</td>\n",
              "      <td>-0.019661</td>\n",
              "      <td>-0.047638</td>\n",
              "      <td>0.409254</td>\n",
              "      <td>1.000000</td>\n",
              "      <td>0.055281</td>\n",
              "      <td>-0.031524</td>\n",
              "    </tr>\n",
              "    <tr>\n",
              "      <th>active</th>\n",
              "      <td>-0.000765</td>\n",
              "      <td>0.031008</td>\n",
              "      <td>0.004211</td>\n",
              "      <td>-0.058702</td>\n",
              "      <td>0.015569</td>\n",
              "      <td>-0.029651</td>\n",
              "      <td>0.054798</td>\n",
              "      <td>0.021187</td>\n",
              "      <td>0.010895</td>\n",
              "      <td>0.055281</td>\n",
              "      <td>1.000000</td>\n",
              "      <td>0.025760</td>\n",
              "    </tr>\n",
              "    <tr>\n",
              "      <th>cardio</th>\n",
              "      <td>0.253741</td>\n",
              "      <td>-0.022083</td>\n",
              "      <td>0.022921</td>\n",
              "      <td>0.194590</td>\n",
              "      <td>0.398803</td>\n",
              "      <td>0.128263</td>\n",
              "      <td>0.225543</td>\n",
              "      <td>0.112975</td>\n",
              "      <td>-0.008920</td>\n",
              "      <td>-0.031524</td>\n",
              "      <td>0.025760</td>\n",
              "      <td>1.000000</td>\n",
              "    </tr>\n",
              "  </tbody>\n",
              "</table>\n",
              "</div>"
            ],
            "text/plain": [
              "                  age    gender    height  ...      alco    active    cardio\n",
              "age          1.000000 -0.035387 -0.099712  ... -0.025456 -0.000765  0.253741\n",
              "gender      -0.035387  1.000000  0.529717  ...  0.166434  0.031008 -0.022083\n",
              "height      -0.099712  0.529717  1.000000  ...  0.121742  0.004211  0.022921\n",
              "weight       0.021426  0.125945  0.334461  ...  0.051993 -0.058702  0.194590\n",
              "ap_hi        0.126634  0.061297  0.047800  ...  0.034892  0.015569  0.398803\n",
              "ap_lo       -0.000026  0.080293  0.034423  ...  0.011783 -0.029651  0.128263\n",
              "cholesterol  0.197988 -0.044352 -0.051899  ... -0.019661  0.054798  0.225543\n",
              "gluc         0.127321 -0.071817 -0.055928  ... -0.047638  0.021187  0.112975\n",
              "smoke       -0.043766  0.316239  0.176473  ...  0.409254  0.010895 -0.008920\n",
              "alco        -0.025456  0.166434  0.121742  ...  1.000000  0.055281 -0.031524\n",
              "active      -0.000765  0.031008  0.004211  ...  0.055281  1.000000  0.025760\n",
              "cardio       0.253741 -0.022083  0.022921  ... -0.031524  0.025760  1.000000\n",
              "\n",
              "[12 rows x 12 columns]"
            ]
          },
          "metadata": {
            "tags": []
          },
          "execution_count": 10
        }
      ]
    },
    {
      "cell_type": "code",
      "metadata": {
        "id": "nD2hbrKUUQoW",
        "colab_type": "code",
        "colab": {}
      },
      "source": [
        "target=data['cardio']"
      ],
      "execution_count": 0,
      "outputs": []
    },
    {
      "cell_type": "code",
      "metadata": {
        "id": "YNZmmP9KUQmD",
        "colab_type": "code",
        "colab": {}
      },
      "source": [
        "feature=data.drop('cardio',axis=1)"
      ],
      "execution_count": 0,
      "outputs": []
    },
    {
      "cell_type": "markdown",
      "metadata": {
        "id": "9l7m7i3q-2e8",
        "colab_type": "text"
      },
      "source": [
        "*Check for the important features*"
      ]
    },
    {
      "cell_type": "code",
      "metadata": {
        "id": "Q9F13u_tUQhM",
        "colab_type": "code",
        "colab": {}
      },
      "source": [
        "from sklearn.ensemble import RandomForestClassifier"
      ],
      "execution_count": 0,
      "outputs": []
    },
    {
      "cell_type": "code",
      "metadata": {
        "id": "7S4Ln6ioUQeb",
        "colab_type": "code",
        "colab": {}
      },
      "source": [
        "rfc=RandomForestClassifier()"
      ],
      "execution_count": 0,
      "outputs": []
    },
    {
      "cell_type": "code",
      "metadata": {
        "id": "VcDPYVT5UQbn",
        "colab_type": "code",
        "colab": {}
      },
      "source": [
        "featureImpModel=rfc.fit(feature,target)"
      ],
      "execution_count": 0,
      "outputs": []
    },
    {
      "cell_type": "code",
      "metadata": {
        "id": "BduMs7BjUQYz",
        "colab_type": "code",
        "outputId": "58148a39-e32c-4dca-a3a5-24eb0cff352a",
        "colab": {
          "base_uri": "https://localhost:8080/",
          "height": 70
        }
      },
      "source": [
        "featureImpModel.feature_importances_"
      ],
      "execution_count": 0,
      "outputs": [
        {
          "output_type": "execute_result",
          "data": {
            "text/plain": [
              "array([0.23648529, 0.02353514, 0.15307556, 0.16839023, 0.19394808,\n",
              "       0.10895812, 0.04392498, 0.02773235, 0.01054039, 0.00999154,\n",
              "       0.02341833])"
            ]
          },
          "metadata": {
            "tags": []
          },
          "execution_count": 16
        }
      ]
    },
    {
      "cell_type": "code",
      "metadata": {
        "id": "rVqnKqkwUQWK",
        "colab_type": "code",
        "outputId": "08bb9d32-adf8-414f-b471-64a544724980",
        "colab": {
          "base_uri": "https://localhost:8080/",
          "height": 70
        }
      },
      "source": [
        "feature.columns"
      ],
      "execution_count": 0,
      "outputs": [
        {
          "output_type": "execute_result",
          "data": {
            "text/plain": [
              "Index(['age', 'gender', 'height', 'weight', 'ap_hi', 'ap_lo', 'cholesterol',\n",
              "       'gluc', 'smoke', 'alco', 'active'],\n",
              "      dtype='object')"
            ]
          },
          "metadata": {
            "tags": []
          },
          "execution_count": 17
        }
      ]
    },
    {
      "cell_type": "code",
      "metadata": {
        "id": "hAxpx_byAOvq",
        "colab_type": "code",
        "colab": {}
      },
      "source": [
        "feature_refined=feature.drop(['smoke', 'alco'],axis=1)"
      ],
      "execution_count": 0,
      "outputs": []
    },
    {
      "cell_type": "markdown",
      "metadata": {
        "id": "rHOoWlON_w4g",
        "colab_type": "text"
      },
      "source": [
        "Inference: we can infer that columns 'smoke', 'alco' has little contribution to the model, hence can be dropped for now\n",
        "\n"
      ]
    },
    {
      "cell_type": "code",
      "metadata": {
        "id": "fr5VQz2XAc-z",
        "colab_type": "code",
        "outputId": "e194c341-0e98-4c64-baa6-a1335a8f2151",
        "colab": {
          "base_uri": "https://localhost:8080/",
          "height": 223
        }
      },
      "source": [
        "feature_refined.head()"
      ],
      "execution_count": 0,
      "outputs": [
        {
          "output_type": "execute_result",
          "data": {
            "text/html": [
              "<div>\n",
              "<style scoped>\n",
              "    .dataframe tbody tr th:only-of-type {\n",
              "        vertical-align: middle;\n",
              "    }\n",
              "\n",
              "    .dataframe tbody tr th {\n",
              "        vertical-align: top;\n",
              "    }\n",
              "\n",
              "    .dataframe thead th {\n",
              "        text-align: right;\n",
              "    }\n",
              "</style>\n",
              "<table border=\"1\" class=\"dataframe\">\n",
              "  <thead>\n",
              "    <tr style=\"text-align: right;\">\n",
              "      <th></th>\n",
              "      <th>age</th>\n",
              "      <th>gender</th>\n",
              "      <th>height</th>\n",
              "      <th>weight</th>\n",
              "      <th>ap_hi</th>\n",
              "      <th>ap_lo</th>\n",
              "      <th>cholesterol</th>\n",
              "      <th>gluc</th>\n",
              "      <th>active</th>\n",
              "    </tr>\n",
              "    <tr>\n",
              "      <th>id</th>\n",
              "      <th></th>\n",
              "      <th></th>\n",
              "      <th></th>\n",
              "      <th></th>\n",
              "      <th></th>\n",
              "      <th></th>\n",
              "      <th></th>\n",
              "      <th></th>\n",
              "      <th></th>\n",
              "    </tr>\n",
              "  </thead>\n",
              "  <tbody>\n",
              "    <tr>\n",
              "      <th>988</th>\n",
              "      <td>22469</td>\n",
              "      <td>1</td>\n",
              "      <td>155</td>\n",
              "      <td>69.0</td>\n",
              "      <td>130</td>\n",
              "      <td>80</td>\n",
              "      <td>2</td>\n",
              "      <td>2</td>\n",
              "      <td>1</td>\n",
              "    </tr>\n",
              "    <tr>\n",
              "      <th>989</th>\n",
              "      <td>14648</td>\n",
              "      <td>1</td>\n",
              "      <td>163</td>\n",
              "      <td>71.0</td>\n",
              "      <td>110</td>\n",
              "      <td>70</td>\n",
              "      <td>1</td>\n",
              "      <td>1</td>\n",
              "      <td>1</td>\n",
              "    </tr>\n",
              "    <tr>\n",
              "      <th>990</th>\n",
              "      <td>21901</td>\n",
              "      <td>1</td>\n",
              "      <td>165</td>\n",
              "      <td>70.0</td>\n",
              "      <td>120</td>\n",
              "      <td>80</td>\n",
              "      <td>1</td>\n",
              "      <td>1</td>\n",
              "      <td>1</td>\n",
              "    </tr>\n",
              "    <tr>\n",
              "      <th>991</th>\n",
              "      <td>14549</td>\n",
              "      <td>2</td>\n",
              "      <td>165</td>\n",
              "      <td>85.0</td>\n",
              "      <td>120</td>\n",
              "      <td>80</td>\n",
              "      <td>1</td>\n",
              "      <td>1</td>\n",
              "      <td>1</td>\n",
              "    </tr>\n",
              "    <tr>\n",
              "      <th>992</th>\n",
              "      <td>23393</td>\n",
              "      <td>1</td>\n",
              "      <td>155</td>\n",
              "      <td>62.0</td>\n",
              "      <td>120</td>\n",
              "      <td>80</td>\n",
              "      <td>1</td>\n",
              "      <td>1</td>\n",
              "      <td>1</td>\n",
              "    </tr>\n",
              "  </tbody>\n",
              "</table>\n",
              "</div>"
            ],
            "text/plain": [
              "       age  gender  height  weight  ap_hi  ap_lo  cholesterol  gluc  active\n",
              "id                                                                         \n",
              "988  22469       1     155    69.0    130     80            2     2       1\n",
              "989  14648       1     163    71.0    110     70            1     1       1\n",
              "990  21901       1     165    70.0    120     80            1     1       1\n",
              "991  14549       2     165    85.0    120     80            1     1       1\n",
              "992  23393       1     155    62.0    120     80            1     1       1"
            ]
          },
          "metadata": {
            "tags": []
          },
          "execution_count": 19
        }
      ]
    },
    {
      "cell_type": "markdown",
      "metadata": {
        "id": "QPtz2B7YD4QU",
        "colab_type": "text"
      },
      "source": [
        "Model building"
      ]
    },
    {
      "cell_type": "code",
      "metadata": {
        "id": "mT9woGxdAdcD",
        "colab_type": "code",
        "colab": {}
      },
      "source": [
        "from sklearn.pipeline import Pipeline\n",
        "from sklearn.preprocessing import StandardScaler\n",
        "from sklearn.model_selection import StratifiedKFold,train_test_split,cross_val_score,GridSearchCV\n",
        "from sklearn.svm import SVC\n",
        "from sklearn.tree import DecisionTreeClassifier\n",
        "from sklearn.ensemble import AdaBoostClassifier,GradientBoostingClassifier,RandomForestClassifier\n",
        "from xgboost import XGBClassifier"
      ],
      "execution_count": 0,
      "outputs": []
    },
    {
      "cell_type": "code",
      "metadata": {
        "id": "yh_h6-56AeHC",
        "colab_type": "code",
        "colab": {}
      },
      "source": [
        "X_train, X_test, y_train, y_test = train_test_split(feature_refined,target, test_size=0.25, random_state=25) "
      ],
      "execution_count": 0,
      "outputs": []
    },
    {
      "cell_type": "code",
      "metadata": {
        "id": "-31uEfooAeoy",
        "colab_type": "code",
        "colab": {}
      },
      "source": [
        "pipe=Pipeline([('preprocessing',StandardScaler()),('classifier',SVC())])"
      ],
      "execution_count": 0,
      "outputs": []
    },
    {
      "cell_type": "code",
      "metadata": {
        "id": "lGJGN7BRAelO",
        "colab_type": "code",
        "colab": {}
      },
      "source": [
        "search_space = [{'classifier': [SVC()],\n",
        "                 'classifier__C': [1,10,100],\n",
        "                 'classifier__kernel': ['linear', 'poly', 'rbf', 'sigmoid']},\n",
        "                {'classifier': [AdaBoostClassifier()],\n",
        "                 'classifier__n_estimators': [10,50,100,150],\n",
        "                 'classifier__learning_rate': [0.001,0.01,0.1,1,10]},\n",
        "                {'classifier': [GradientBoostingClassifier()],\n",
        "                 'classifier__n_estimators': [10,50,100,150],\n",
        "                 'classifier__max_features': ['auto','log2'],\n",
        "                 'classifier__learning_rate': [0.001,0.01,0.1,1,10]},\n",
        "                {'classifier': [XGBClassifier()],\n",
        "                 'classifier__max_depth': range(2,5,1),\n",
        "                 'classifier__n_estimators': [10,50,100,150],\n",
        "                 'classifier__learning_rate': [0.001,0.01,0.1,1,10]},\n",
        "                {'classifier': [RandomForestClassifier()],\n",
        "                 'classifier__max_depth': range(2,5,1),\n",
        "                 'classifier__n_estimators': [10,50,100,150],\n",
        "                 'classifier__max_features': ['auto','log2'],\n",
        "                 'classifier__criterion': ['gini','entropy']}]"
      ],
      "execution_count": 0,
      "outputs": []
    },
    {
      "cell_type": "code",
      "metadata": {
        "id": "HQkWwEZGAeig",
        "colab_type": "code",
        "colab": {}
      },
      "source": [
        "clf = GridSearchCV(pipe, search_space, cv=StratifiedKFold(n_splits=10), verbose=3,n_jobs=-1)"
      ],
      "execution_count": 0,
      "outputs": []
    },
    {
      "cell_type": "code",
      "metadata": {
        "id": "PSOj9rLFAefT",
        "colab_type": "code",
        "outputId": "e8becfcd-9efb-4a08-ec78-aa415c2fcf12",
        "colab": {
          "base_uri": "https://localhost:8080/",
          "height": 179
        }
      },
      "source": [
        "best_model = clf.fit(X_train, y_train)"
      ],
      "execution_count": 0,
      "outputs": [
        {
          "output_type": "stream",
          "text": [
            "Fitting 10 folds for each of 180 candidates, totalling 1800 fits\n"
          ],
          "name": "stdout"
        },
        {
          "output_type": "stream",
          "text": [
            "[Parallel(n_jobs=-1)]: Using backend LokyBackend with 2 concurrent workers.\n",
            "[Parallel(n_jobs=-1)]: Done  56 tasks      | elapsed:    2.4s\n",
            "[Parallel(n_jobs=-1)]: Done 402 tasks      | elapsed:   32.3s\n",
            "/usr/local/lib/python3.6/dist-packages/joblib/externals/loky/process_executor.py:706: UserWarning: A worker stopped while some jobs were given to the executor. This can be caused by a too short worker timeout or by a memory leak.\n",
            "  \"timeout or by a memory leak.\", UserWarning\n",
            "[Parallel(n_jobs=-1)]: Done 1042 tasks      | elapsed:  1.1min\n",
            "[Parallel(n_jobs=-1)]: Done 1800 out of 1800 | elapsed:  1.9min finished\n"
          ],
          "name": "stderr"
        }
      ]
    },
    {
      "cell_type": "code",
      "metadata": {
        "id": "gIULe98Mnvrb",
        "colab_type": "code",
        "outputId": "2d4da4fe-9e42-4c27-d6b8-f769d7d265ec",
        "colab": {
          "base_uri": "https://localhost:8080/",
          "height": 159
        }
      },
      "source": [
        "best_model.best_estimator_.get_params()['classifier']"
      ],
      "execution_count": 0,
      "outputs": [
        {
          "output_type": "execute_result",
          "data": {
            "text/plain": [
              "RandomForestClassifier(bootstrap=True, ccp_alpha=0.0, class_weight=None,\n",
              "                       criterion='entropy', max_depth=4, max_features='auto',\n",
              "                       max_leaf_nodes=None, max_samples=None,\n",
              "                       min_impurity_decrease=0.0, min_impurity_split=None,\n",
              "                       min_samples_leaf=1, min_samples_split=2,\n",
              "                       min_weight_fraction_leaf=0.0, n_estimators=150,\n",
              "                       n_jobs=None, oob_score=False, random_state=None,\n",
              "                       verbose=0, warm_start=False)"
            ]
          },
          "metadata": {
            "tags": []
          },
          "execution_count": 26
        }
      ]
    },
    {
      "cell_type": "code",
      "metadata": {
        "id": "9cmoMZydfzJ7",
        "colab_type": "code",
        "colab": {}
      },
      "source": [
        "from sklearn.metrics import confusion_matrix,f1_score,roc_auc_score,accuracy_score"
      ],
      "execution_count": 0,
      "outputs": []
    },
    {
      "cell_type": "code",
      "metadata": {
        "id": "KY5ZPYpIg9y1",
        "colab_type": "code",
        "colab": {}
      },
      "source": [
        "y_pred=best_model.predict(X_test)"
      ],
      "execution_count": 0,
      "outputs": []
    },
    {
      "cell_type": "code",
      "metadata": {
        "id": "aXErj1ERhT3B",
        "colab_type": "code",
        "outputId": "eedcc54c-fffa-4ddb-ab05-09f13d0254e3",
        "colab": {
          "base_uri": "https://localhost:8080/",
          "height": 52
        }
      },
      "source": [
        "confusion_matrix(y_test,y_pred)"
      ],
      "execution_count": 0,
      "outputs": [
        {
          "output_type": "execute_result",
          "data": {
            "text/plain": [
              "array([[106,  17],\n",
              "       [ 50,  77]])"
            ]
          },
          "metadata": {
            "tags": []
          },
          "execution_count": 30
        }
      ]
    },
    {
      "cell_type": "code",
      "metadata": {
        "id": "MrsAYMzs41RT",
        "colab_type": "code",
        "outputId": "aafdabb6-22f9-470b-8eb7-6be974e48711",
        "colab": {
          "base_uri": "https://localhost:8080/",
          "height": 35
        }
      },
      "source": [
        "roc_auc_score(y_test,y_pred)"
      ],
      "execution_count": 0,
      "outputs": [
        {
          "output_type": "execute_result",
          "data": {
            "text/plain": [
              "0.7340439152423021"
            ]
          },
          "metadata": {
            "tags": []
          },
          "execution_count": 31
        }
      ]
    },
    {
      "cell_type": "code",
      "metadata": {
        "id": "Cb2ffa-S416t",
        "colab_type": "code",
        "outputId": "81ee31ad-6dd3-48a9-904d-146e239c8251",
        "colab": {
          "base_uri": "https://localhost:8080/",
          "height": 35
        }
      },
      "source": [
        "accuracy_score(y_test,y_pred)"
      ],
      "execution_count": 0,
      "outputs": [
        {
          "output_type": "execute_result",
          "data": {
            "text/plain": [
              "0.732"
            ]
          },
          "metadata": {
            "tags": []
          },
          "execution_count": 29
        }
      ]
    },
    {
      "cell_type": "code",
      "metadata": {
        "id": "kFbfyKrMCboF",
        "colab_type": "code",
        "outputId": "99abec59-5747-472c-9970-e0942a048ca4",
        "colab": {
          "base_uri": "https://localhost:8080/",
          "height": 35
        }
      },
      "source": [
        "best_model.predict(X_test)[113]"
      ],
      "execution_count": 0,
      "outputs": [
        {
          "output_type": "execute_result",
          "data": {
            "text/plain": [
              "1"
            ]
          },
          "metadata": {
            "tags": []
          },
          "execution_count": 35
        }
      ]
    },
    {
      "cell_type": "code",
      "metadata": {
        "id": "6WPkD3grEAu2",
        "colab_type": "code",
        "outputId": "9221a075-5f53-4046-f61e-b01176fb35d4",
        "colab": {
          "base_uri": "https://localhost:8080/",
          "height": 35
        }
      },
      "source": [
        "y_test.iloc[113]"
      ],
      "execution_count": 0,
      "outputs": [
        {
          "output_type": "execute_result",
          "data": {
            "text/plain": [
              "1"
            ]
          },
          "metadata": {
            "tags": []
          },
          "execution_count": 36
        }
      ]
    },
    {
      "cell_type": "markdown",
      "metadata": {
        "id": "tF7OkspBFIFt",
        "colab_type": "text"
      },
      "source": [
        "Import total Data available and try to check the model *performance*"
      ]
    },
    {
      "cell_type": "code",
      "metadata": {
        "id": "Wh429kF6E2zs",
        "colab_type": "code",
        "colab": {}
      },
      "source": [
        "data=pd.read_csv('cardio_train.csv',sep=';',header=0,index_col='id')"
      ],
      "execution_count": 0,
      "outputs": []
    },
    {
      "cell_type": "code",
      "metadata": {
        "id": "_9FnZCWzE3XZ",
        "colab_type": "code",
        "colab": {}
      },
      "source": [
        "target=data['cardio']"
      ],
      "execution_count": 0,
      "outputs": []
    },
    {
      "cell_type": "code",
      "metadata": {
        "id": "2N9eJDo1E3G3",
        "colab_type": "code",
        "colab": {}
      },
      "source": [
        "feature=data.drop('cardio',axis=1)"
      ],
      "execution_count": 0,
      "outputs": []
    },
    {
      "cell_type": "code",
      "metadata": {
        "id": "i7ypyVV_F71v",
        "colab_type": "code",
        "colab": {}
      },
      "source": [
        "X_train, X_test, y_train, y_test = train_test_split(feature,target, test_size=0.25, random_state=25) "
      ],
      "execution_count": 0,
      "outputs": []
    },
    {
      "cell_type": "code",
      "metadata": {
        "id": "iQnbzABNErDY",
        "colab_type": "code",
        "colab": {}
      },
      "source": [
        "model=RandomForestClassifier(bootstrap=True, ccp_alpha=0.0, class_weight=None,\n",
        "                       criterion='entropy', max_depth=4, max_features='auto',\n",
        "                       max_leaf_nodes=None, max_samples=None,\n",
        "                       min_impurity_decrease=0.0, min_impurity_split=None,\n",
        "                       min_samples_leaf=1, min_samples_split=2,\n",
        "                       min_weight_fraction_leaf=0.0, n_estimators=150,\n",
        "                       n_jobs=None, oob_score=False, random_state=None,\n",
        "                       verbose=0, warm_start=False)"
      ],
      "execution_count": 0,
      "outputs": []
    },
    {
      "cell_type": "code",
      "metadata": {
        "id": "j_Anzj_dEq9X",
        "colab_type": "code",
        "outputId": "66c878fe-e2eb-4dbf-8b27-c08dca9f3ca5",
        "colab": {
          "base_uri": "https://localhost:8080/",
          "height": 159
        }
      },
      "source": [
        "model.fit(X_train,y_train)"
      ],
      "execution_count": 0,
      "outputs": [
        {
          "output_type": "execute_result",
          "data": {
            "text/plain": [
              "RandomForestClassifier(bootstrap=True, ccp_alpha=0.0, class_weight=None,\n",
              "                       criterion='entropy', max_depth=4, max_features='auto',\n",
              "                       max_leaf_nodes=None, max_samples=None,\n",
              "                       min_impurity_decrease=0.0, min_impurity_split=None,\n",
              "                       min_samples_leaf=1, min_samples_split=2,\n",
              "                       min_weight_fraction_leaf=0.0, n_estimators=150,\n",
              "                       n_jobs=None, oob_score=False, random_state=None,\n",
              "                       verbose=0, warm_start=False)"
            ]
          },
          "metadata": {
            "tags": []
          },
          "execution_count": 39
        }
      ]
    },
    {
      "cell_type": "code",
      "metadata": {
        "id": "HgtN9B7aEq4X",
        "colab_type": "code",
        "colab": {}
      },
      "source": [
        "y_pred=model.predict(X_test)"
      ],
      "execution_count": 0,
      "outputs": []
    },
    {
      "cell_type": "code",
      "metadata": {
        "id": "fa_jsK_kEqys",
        "colab_type": "code",
        "outputId": "788a36f7-89d3-429a-8080-b7a807a317c0",
        "colab": {
          "base_uri": "https://localhost:8080/",
          "height": 52
        }
      },
      "source": [
        "confusion_matrix(y_test,y_pred)"
      ],
      "execution_count": 0,
      "outputs": [
        {
          "output_type": "execute_result",
          "data": {
            "text/plain": [
              "array([[6865, 1863],\n",
              "       [2942, 5656]])"
            ]
          },
          "metadata": {
            "tags": []
          },
          "execution_count": 42
        }
      ]
    },
    {
      "cell_type": "code",
      "metadata": {
        "id": "SUY3h_FwEqoo",
        "colab_type": "code",
        "outputId": "3acf9b15-22c1-4174-99b3-980d73cbbd0b",
        "colab": {
          "base_uri": "https://localhost:8080/",
          "height": 35
        }
      },
      "source": [
        "accuracy_score(y_test,y_pred)"
      ],
      "execution_count": 0,
      "outputs": [
        {
          "output_type": "execute_result",
          "data": {
            "text/plain": [
              "0.7226711300935011"
            ]
          },
          "metadata": {
            "tags": []
          },
          "execution_count": 41
        }
      ]
    },
    {
      "cell_type": "code",
      "metadata": {
        "id": "Oc3WKEQCGxfq",
        "colab_type": "code",
        "colab": {}
      },
      "source": [
        "roc_auc_score(y_test,y_pred)"
      ],
      "execution_count": 0,
      "outputs": []
    }
  ]
}